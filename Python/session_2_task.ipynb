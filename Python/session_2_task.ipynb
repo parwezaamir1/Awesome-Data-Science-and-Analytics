{
  "nbformat": 4,
  "nbformat_minor": 0,
  "metadata": {
    "colab": {
      "provenance": []
    },
    "kernelspec": {
      "name": "python3",
      "display_name": "Python 3"
    },
    "language_info": {
      "name": "python"
    }
  },
  "cells": [
    {
      "cell_type": "markdown",
      "source": [
        "### `Problem 1`: Write a program that will give you in hand monthly salary after deduction on CTC - HRA(10%), DA(5%), PF(3%) and taxes deduction as below:\n",
        "\n",
        "> Salary(Lakhs) : Tax(%)\n",
        "\n",
        "*   Below 5 : 0%\n",
        "*   5-10 : 10%\n",
        "*   10-20 : 20%\n",
        "*   aboove 20 : 30%"
      ],
      "metadata": {
        "id": "w6RlOAXV2PWh"
      }
    },
    {
      "cell_type": "code",
      "source": [
        "# # Write code here\n",
        "# ctc = int(input(\"Enter your current CTC: \"))\n",
        "\n",
        "# if ctc < 500000:\n",
        "#   salary = ctc * .82\n",
        "# elif ctc < 1000000:\n",
        "#   salary = ctc * .72\n",
        "# elif ctc < 2000000:\n",
        "#   salary = ctc* .62\n",
        "# else:\n",
        "#   salary = ctc * .52\n",
        "\n",
        "# print(f\"Monthly salary received for an employee is {salary/12}\")\n",
        "\n",
        "# Get the CTC from the user\n",
        "ctc = float(input(\"Enter the CTC (in lakhs): \"))\n",
        "\n",
        "# Convert CTC from lakhs to absolute value\n",
        "ctc = ctc * 100000\n",
        "\n",
        "# Calculate the HRA, DA, and PF\n",
        "hra = ctc * 0.10\n",
        "da = ctc * 0.05\n",
        "pf = ctc * 0.03\n",
        "\n",
        "# Calculate the tax based on the CTC\n",
        "if ctc <= 500000: # For salary below 5 lakhs\n",
        "    tax = 0\n",
        "elif 500000 < ctc <= 1000000: # For salary 5-10 lakhs\n",
        "    tax = ctc * 0.10\n",
        "elif 1000000 < ctc <= 2000000: # For salary 10-20 lakhs\n",
        "    tax = ctc * 0.20\n",
        "else: # For salary above 20 lakhs\n",
        "    tax = ctc * 0.30\n",
        "\n",
        "# Calculate the total deductions\n",
        "total_deductions = hra + da + pf + tax\n",
        "\n",
        "# Calculate the in-hand salary\n",
        "in_hand_salary = ctc - total_deductions\n",
        "\n",
        "# Convert in_hand_salary to monthly salary\n",
        "monthly_salary = in_hand_salary / 12\n",
        "\n",
        "print(f\"The monthly in-hand salary is: {monthly_salary}\")\n"
      ],
      "metadata": {
        "id": "7tMHvKYO2etI",
        "colab": {
          "base_uri": "https://localhost:8080/"
        },
        "outputId": "fe238f01-212c-456a-f87f-377b09a88f81"
      },
      "execution_count": null,
      "outputs": [
        {
          "output_type": "stream",
          "name": "stdout",
          "text": [
            "Enter the CTC (in lakhs): 5\n",
            "The monthly in-hand salary is: 34166.666666666664\n"
          ]
        }
      ]
    },
    {
      "cell_type": "markdown",
      "source": [
        " ### `Problem 2`: Write a program that take a user input of three angles and will find out whether it can form a triangle or not."
      ],
      "metadata": {
        "id": "tYzCGqwl2hfN"
      }
    },
    {
      "cell_type": "code",
      "source": [
        "first_angle = int(input(\"Enter the first angle: \"))\n",
        "second_angle = int(input(\"Enter the second angle: \"))\n",
        "third_angle = int(input(\"Enter the third angle: \"))\n",
        "\n",
        "if (first_angle + second_angle + third_angle) == 180 and first_angle >0 and second_angle>0 and third_angle>0:\n",
        "  print(\"Forms a triangle\")\n",
        "else:\n",
        "  print(\"Does not forms a triangle\")"
      ],
      "metadata": {
        "id": "FYEqln-I2kxV",
        "colab": {
          "base_uri": "https://localhost:8080/"
        },
        "outputId": "e3c4119f-7de0-4d22-cfd7-46669520a514"
      },
      "execution_count": null,
      "outputs": [
        {
          "output_type": "stream",
          "name": "stdout",
          "text": [
            "Enter the first angle: 170\n",
            "Enter the second angle: 10\n",
            "Enter the third angle: 10\n",
            "Does not forms a triangle\n"
          ]
        }
      ]
    },
    {
      "cell_type": "markdown",
      "source": [
        "### `Problem 3`: Write a program that will take user input of cost price and selling price and determines whether its a loss or a profit"
      ],
      "metadata": {
        "id": "5vEpPh8C2pE4"
      }
    },
    {
      "cell_type": "code",
      "source": [
        "cost_price = float(input(\"Enter the cost price of the item: \"))\n",
        "selling_price = float(input(\"Enter the selling price of the item: \"))\n",
        "\n",
        "if cost_price < selling_price:\n",
        "  print(\"Profit\")\n",
        "elif cost_price > selling_price:\n",
        "  print(\"Loss\")\n",
        "else:\n",
        "  print(\"No profit No Loss\")"
      ],
      "metadata": {
        "id": "jDwBXlkO2sfl",
        "colab": {
          "base_uri": "https://localhost:8080/"
        },
        "outputId": "0b934104-a6d6-4dcc-a190-9c2b07f88a92"
      },
      "execution_count": null,
      "outputs": [
        {
          "output_type": "stream",
          "name": "stdout",
          "text": [
            "Enter the cost price of the item: 100\n",
            "Enter the selling price of the item: 100\n",
            "No profit No Loss\n"
          ]
        }
      ]
    },
    {
      "cell_type": "markdown",
      "source": [
        "### `Problem 4`: Write a menu-driven program -\n",
        "1. cm to ft\n",
        "2. km to miles\n",
        "3. USD to INR\n",
        "4. exit"
      ],
      "metadata": {
        "id": "J_FG_cJW2ugT"
      }
    },
    {
      "cell_type": "code",
      "source": [
        "menu = input(\"\"\"\n",
        "Hi, Please select an option\n",
        "1. cm to ft\n",
        "2. km to miles\n",
        "3. USD to INR\n",
        "4. exit\n",
        "\"\"\")\n",
        "\n",
        "if menu == \"1\":\n",
        "  cm = float(input(\"Enter the cm value: \"))\n",
        "  print(\"Ft value is: \", 0.032*cm)\n",
        "elif menu == \"2\":\n",
        "  km = float(input(\"Enter the km: \"))\n",
        "  print(\"miles value is: \", 0.621*km)\n",
        "elif menu == \"3\":\n",
        "  USD = float(input(\"Enter the value in USD: \"))\n",
        "  print(\"INR is: \", 83.43)\n",
        "else:\n",
        "  exit()"
      ],
      "metadata": {
        "id": "yBHhaCGQ2zpD",
        "colab": {
          "base_uri": "https://localhost:8080/"
        },
        "outputId": "2bc3c44e-799a-425f-ae4f-228dc1787c69"
      },
      "execution_count": null,
      "outputs": [
        {
          "name": "stdout",
          "output_type": "stream",
          "text": [
            "\n",
            "Hi, Please select an option\n",
            "1. cm to ft\n",
            "2. km to miles\n",
            "3. USD to INR\n",
            "4. exit\n",
            "4\n"
          ]
        }
      ]
    },
    {
      "cell_type": "markdown",
      "source": [
        "### `Problem 5` - Exercise 12: Display Fibonacci series up to 10 terms.\n",
        "\n",
        "*Note: The Fibonacci Sequence is a series of numbers. The next number is found by adding up the two numbers before it. The first two numbers are 0 and 1. For example, 0, 1, 1, 2, 3, 5, 8, 13, 21. The next number in this series above is 13+21 = 34*"
      ],
      "metadata": {
        "id": "LJJ30_Yw27ZU"
      }
    },
    {
      "cell_type": "code",
      "source": [
        "first_number = 0\n",
        "second_number = 1\n",
        "\n",
        "for i in range(11):\n",
        "  print(first_number)\n",
        "\n",
        "  nxt_num = first_number + second_number\n",
        "  first_number = second_number\n",
        "  second_number = nxt_num"
      ],
      "metadata": {
        "id": "ae_1rpe52-5R",
        "colab": {
          "base_uri": "https://localhost:8080/"
        },
        "outputId": "77a21632-b323-46b7-db73-6ba0c74b886a"
      },
      "execution_count": null,
      "outputs": [
        {
          "output_type": "stream",
          "name": "stdout",
          "text": [
            "0\n",
            "1\n",
            "1\n",
            "2\n",
            "3\n",
            "5\n",
            "8\n",
            "13\n",
            "21\n",
            "34\n",
            "55\n"
          ]
        }
      ]
    },
    {
      "cell_type": "markdown",
      "source": [
        "### `Problem 6` - Find the factorial of a given number.\n",
        "\n",
        "Write a program to use the loop to find the factorial of a given number.\n",
        "\n",
        "The factorial (symbol: `!`) means to multiply all whole numbers from the chosen number down to 1.\n",
        "\n",
        "For example: calculate the factorial of 5\n",
        "\n",
        "```bash\n",
        "5! = 5 × 4 × 3 × 2 × 1 = 120\n",
        "```\n",
        "\n",
        "Output:\n",
        "\n",
        "```bash\n",
        "120\n",
        "```"
      ],
      "metadata": {
        "id": "pk_I_S4m3PT5"
      }
    },
    {
      "cell_type": "code",
      "source": [
        "factorial = 1\n",
        "for i in range(1,6):\n",
        "  factorial = factorial * i\n",
        "print(factorial)"
      ],
      "metadata": {
        "id": "lzXxHegx3Rkc",
        "colab": {
          "base_uri": "https://localhost:8080/"
        },
        "outputId": "27fc05ee-8ee2-4044-c0f4-f59bea85a4a2"
      },
      "execution_count": null,
      "outputs": [
        {
          "output_type": "stream",
          "name": "stdout",
          "text": [
            "120\n"
          ]
        }
      ]
    },
    {
      "cell_type": "markdown",
      "source": [
        "### `Problem 7` - Reverse a given integer number.\n",
        "\n",
        "Example:\n",
        "\n",
        "`Input:`\n",
        "\n",
        "```bash\n",
        "76542\n",
        "```\n",
        "\n",
        "`Output:`\n",
        "\n",
        "```bash\n",
        "24567\n",
        "```"
      ],
      "metadata": {
        "id": "-17IOi-g3UpU"
      }
    },
    {
      "cell_type": "code",
      "source": [
        "number = int(input(\"enter a number: \"))\n",
        "\n",
        "rev = 0\n",
        "\n",
        "while number > 0:\n",
        "  last_digit = number % 10\n",
        "  rev = rev * 10 + last_digit\n",
        "  number = number // 10\n",
        "\n",
        "print(rev)"
      ],
      "metadata": {
        "id": "wJwLpKCr3aVA",
        "colab": {
          "base_uri": "https://localhost:8080/"
        },
        "outputId": "6bec6cdb-29a7-4208-f682-71986c7fe7d1"
      },
      "execution_count": 7,
      "outputs": [
        {
          "output_type": "stream",
          "name": "stdout",
          "text": [
            "enter a number: 567\n",
            "765\n"
          ]
        }
      ]
    },
    {
      "cell_type": "markdown",
      "source": [
        "### `Problem 8`: Take a user input as integer N. Find out the sum from 1 to N. If any number if divisible by 5, then skip that number. And if the sum is greater than 300, don't need to calculate the sum further more. Print the final result. And don't use for loop to solve this problem.\n",
        "\n",
        "**Example 1:**\n",
        "\n",
        "`Input:`\n",
        "\n",
        "```bash\n",
        "30\n",
        "```\n",
        "\n",
        "`Output:`\n",
        "\n",
        "```bash\n",
        "276\n",
        "```"
      ],
      "metadata": {
        "id": "-t8PJQaY3sHf"
      }
    },
    {
      "cell_type": "code",
      "source": [
        "N = int(input(\"Enter a number: \"))\n",
        "i = 1\n",
        "total = 0\n",
        "\n",
        "while i<=N:\n",
        "  if i % 5 == 0:\n",
        "    i += 1\n",
        "    continue\n",
        "\n",
        "  total = total + i\n",
        "\n",
        "  if total > 300:\n",
        "    total = total - i\n",
        "    break\n",
        "\n",
        "  i += 1\n",
        "\n",
        "print(total)\n"
      ],
      "metadata": {
        "id": "GZB6mGMP3ujT",
        "colab": {
          "base_uri": "https://localhost:8080/"
        },
        "outputId": "68ad5012-b6fb-4362-823e-0c750ee2e591"
      },
      "execution_count": 6,
      "outputs": [
        {
          "output_type": "stream",
          "name": "stdout",
          "text": [
            "Enter a number: 45\n",
            "276\n"
          ]
        }
      ]
    },
    {
      "cell_type": "markdown",
      "source": [
        "### `Problem 9`: Write a program that keeps on accepting a number from the user until the user enters Zero. Display the sum and average of all the numbers."
      ],
      "metadata": {
        "id": "Q7ggImeA3xm4"
      }
    },
    {
      "cell_type": "code",
      "source": [
        "sum = 0\n",
        "counter = 0\n",
        "\n",
        "while True:\n",
        "  num = int(input(\"Enter a number: \"))\n",
        "\n",
        "  if num == 0:\n",
        "    break\n",
        "\n",
        "  sum = sum + num\n",
        "  counter += 1\n",
        "\n",
        "print(\"Sum\", sum)\n",
        "print(\"Average\", sum/counter)"
      ],
      "metadata": {
        "id": "t_YDSZDe4Kdo",
        "colab": {
          "base_uri": "https://localhost:8080/"
        },
        "outputId": "a7d403c1-ab69-4559-de4b-60feaddb3aa7"
      },
      "execution_count": 8,
      "outputs": [
        {
          "output_type": "stream",
          "name": "stdout",
          "text": [
            "Enter a number: 1\n",
            "Enter a number: 2\n",
            "Enter a number: 3\n",
            "Enter a number: 4\n",
            "Enter a number: 5\n",
            "Enter a number: 0\n",
            "Sum 15\n",
            "Average 3.0\n"
          ]
        }
      ]
    },
    {
      "cell_type": "markdown",
      "source": [
        "###`Problem 9`: Write a program which will find all such numbers which are divisible by 7 but are not a multiple of 5, between 2000 and 3200 (both included). The numbers obtained should be printed in a comma-separated sequence on a single line."
      ],
      "metadata": {
        "id": "6EhvEMvm4R7s"
      }
    },
    {
      "cell_type": "code",
      "source": [
        "L = []\n",
        "\n",
        "for i in range(2000, 3201):\n",
        "  if i % 7 == 0 and i % 5 != 0:\n",
        "    L.append(str(i))\n",
        "\n",
        "print(\",\".join(L))"
      ],
      "metadata": {
        "id": "d6RgP1B34T6c",
        "colab": {
          "base_uri": "https://localhost:8080/"
        },
        "outputId": "d7b19aa2-8596-4004-e3ad-023a5b85747a"
      },
      "execution_count": 9,
      "outputs": [
        {
          "output_type": "stream",
          "name": "stdout",
          "text": [
            "2002,2009,2016,2023,2037,2044,2051,2058,2072,2079,2086,2093,2107,2114,2121,2128,2142,2149,2156,2163,2177,2184,2191,2198,2212,2219,2226,2233,2247,2254,2261,2268,2282,2289,2296,2303,2317,2324,2331,2338,2352,2359,2366,2373,2387,2394,2401,2408,2422,2429,2436,2443,2457,2464,2471,2478,2492,2499,2506,2513,2527,2534,2541,2548,2562,2569,2576,2583,2597,2604,2611,2618,2632,2639,2646,2653,2667,2674,2681,2688,2702,2709,2716,2723,2737,2744,2751,2758,2772,2779,2786,2793,2807,2814,2821,2828,2842,2849,2856,2863,2877,2884,2891,2898,2912,2919,2926,2933,2947,2954,2961,2968,2982,2989,2996,3003,3017,3024,3031,3038,3052,3059,3066,3073,3087,3094,3101,3108,3122,3129,3136,3143,3157,3164,3171,3178,3192,3199\n"
          ]
        }
      ]
    },
    {
      "cell_type": "markdown",
      "source": [
        "###`Problem 10`: Write a program, which will find all such numbers between 1000 and 3000 (both included) such that each digit of the number is an even number. The numbers obtained should be printed in a space-separated sequence on a single line.\n",
        "\n"
      ],
      "metadata": {
        "id": "tYvmRR-G4Vp4"
      }
    },
    {
      "cell_type": "code",
      "source": [
        "L = []\n",
        "\n",
        "for i in range(1000, 3001):\n",
        "  flag = True\n",
        "  curr = i\n",
        "\n",
        "  while curr > 0:\n",
        "    last = curr%10\n",
        "    if last % 2 !=0:\n",
        "      flag = False\n",
        "      break\n",
        "\n",
        "    curr = curr//10\n",
        "\n",
        "  if flag:\n",
        "    L.append(str(i))\n",
        "\n",
        "print(\",\".join(L))"
      ],
      "metadata": {
        "id": "k6Gs1kIf4k19",
        "colab": {
          "base_uri": "https://localhost:8080/"
        },
        "outputId": "0a5c629d-c26a-4938-a707-503b025513d0"
      },
      "execution_count": 11,
      "outputs": [
        {
          "output_type": "stream",
          "name": "stdout",
          "text": [
            "2000,2002,2004,2006,2008,2020,2022,2024,2026,2028,2040,2042,2044,2046,2048,2060,2062,2064,2066,2068,2080,2082,2084,2086,2088,2200,2202,2204,2206,2208,2220,2222,2224,2226,2228,2240,2242,2244,2246,2248,2260,2262,2264,2266,2268,2280,2282,2284,2286,2288,2400,2402,2404,2406,2408,2420,2422,2424,2426,2428,2440,2442,2444,2446,2448,2460,2462,2464,2466,2468,2480,2482,2484,2486,2488,2600,2602,2604,2606,2608,2620,2622,2624,2626,2628,2640,2642,2644,2646,2648,2660,2662,2664,2666,2668,2680,2682,2684,2686,2688,2800,2802,2804,2806,2808,2820,2822,2824,2826,2828,2840,2842,2844,2846,2848,2860,2862,2864,2866,2868,2880,2882,2884,2886,2888\n"
          ]
        }
      ]
    },
    {
      "cell_type": "markdown",
      "source": [
        "###`Problem 11`: A robot moves in a plane starting from the original point (0,0). The robot can move toward UP, DOWN, LEFT and RIGHT with a given steps.\n",
        "The trace of robot movement is shown as the following:\n",
        "```\n",
        "UP 5\n",
        "DOWN 3\n",
        "LEFT 3\n",
        "RIGHT 2\n",
        "!\n",
        "```\n",
        "> The numbers after the direction are steps.\n",
        "\n",
        "> `!` means robot stop there.\n",
        "\n",
        "**Please write a program to compute the distance from current position after a sequence of movement and original point.**\n",
        "\n",
        "*If the distance is a float, then just print the nearest integer.*\n",
        "\n",
        "Example:\n",
        "\n",
        "`Input`:\n",
        "```\n",
        "UP 5\n",
        "DOWN 3\n",
        "LEFT 3\n",
        "RIGHT 2\n",
        "!\n",
        "```\n",
        "`Output`:\n",
        "```\n",
        "2\n",
        "```"
      ],
      "metadata": {
        "id": "GV18IINT4mf5"
      }
    },
    {
      "cell_type": "code",
      "source": [
        "# Write code here\n",
        "pos = [0,0]\n",
        "while True:\n",
        "  s = input('Enter the robot path')\n",
        "  if s == '!':\n",
        "    break\n",
        "  direction = s.split()[0]\n",
        "  steps = int(s.split()[1])\n",
        "\n",
        "  if direction == 'UP':\n",
        "    pos[1] = pos[1] + steps\n",
        "  elif direction == 'DOWN':\n",
        "    pos[1] = pos[1] - steps\n",
        "  elif direction == 'LEFT':\n",
        "    pos[0] = pos[0] - steps\n",
        "  elif direction == 'RIGHT':\n",
        "    pos[0] = pos[0] + steps\n",
        "  else:\n",
        "    pass\n",
        "\n",
        "print('new pos',pos)\n",
        "print((pos[0]**2 + pos[1]**2)**0.5)"
      ],
      "metadata": {
        "id": "6UNMC2aR4w5x"
      },
      "execution_count": null,
      "outputs": []
    },
    {
      "cell_type": "markdown",
      "source": [
        "###`Problem 12`:Write a program to print whether a given number is a prime number or not"
      ],
      "metadata": {
        "id": "3fsAIAhK5GYY"
      }
    },
    {
      "cell_type": "code",
      "source": [
        "# Write code here\n",
        "num = int(input('enter the num'))\n",
        "\n",
        "flag = True\n",
        "for i in range(2,num):\n",
        "  if num%i == 0:\n",
        "    flag = False\n",
        "    break\n",
        "\n",
        "if flag == True:\n",
        "  print('Prime')\n",
        "else:\n",
        "  print('Not Prime')"
      ],
      "metadata": {
        "id": "j6y91lxy5LZs"
      },
      "execution_count": null,
      "outputs": []
    },
    {
      "cell_type": "markdown",
      "source": [
        "###`Problem 13`:Print all the Armstrong numbers in a given range.\n",
        "Range will be provided by the user<br>\n",
        "Armstrong number is a number that is equal to the sum of cubes of its digits. For example 0, 1, 153, 370, 371 and 407 are the Armstrong numbers."
      ],
      "metadata": {
        "id": "asAbmbK-5NHv"
      }
    },
    {
      "cell_type": "code",
      "source": [
        "\n",
        "# Write code here\n",
        "start = int(input(\"Enter the start of the range: \"))\n",
        "end = int(input(\"Enter the end of the range: \"))\n",
        "\n",
        "for num in range(start, end+1):\n",
        "    temp = num\n",
        "    sum = 0\n",
        "    order = len(str(num))\n",
        "    while temp > 0:\n",
        "        digit = temp % 10\n",
        "        sum += digit ** order\n",
        "        temp //= 10\n",
        "    if num == sum:\n",
        "        print(num)"
      ],
      "metadata": {
        "id": "PZuI67pm5jCT"
      },
      "execution_count": null,
      "outputs": []
    },
    {
      "cell_type": "markdown",
      "source": [
        "###`Problem 14`:Calculate the angle between the hour hand and minute hand.\n",
        "\n",
        "Note: There can be two angles between hands; we need to print a minimum of two. Also, we need to print the floor of the final result angle. For example, if the final angle is 10.61, we need to print 10.\n",
        "\n",
        "Input:<br>\n",
        "H = 9 , M = 0<br>\n",
        "Output:<br>\n",
        "90<br>\n",
        "Explanation:<br>\n",
        "The minimum angle between hour and minute\n",
        "hand when the time is 9 is 90 degress."
      ],
      "metadata": {
        "id": "ClCQZMqT7gK0"
      }
    },
    {
      "cell_type": "code",
      "source": [
        "# Write code here\n",
        "h = int(input('Enter hours hand-'))\n",
        "m = int(input('Enter minute hand-'))\n",
        "\n",
        "# validate the input\n",
        "if (h < 0 or m < 0 or h > 12 or m > 60):\n",
        "    print('Wrong input')\n",
        "\n",
        "# Idea is to minute angle - hour agnle from clockwise from 12 hour point\n",
        "\n",
        "# 1 minute in minute angle manke 6 degree. (60 minute -> 360 degree)\n",
        "m_angle = m*6\n",
        "\n",
        "# every hour point yeilds to 30degree-- 12 hours-360degree plus if minute hand moves hour hands move too\n",
        "# Every minute after hour hand take 0.5 degree movement. clockwise\n",
        "h_angle = h*30 + m*0.5\n",
        "\n",
        "# Take abs difference b/w them\n",
        "angle = abs(h_angle - m_angle)\n",
        "\n",
        "\n",
        "if angle>180:\n",
        "    print(360-angle)\n",
        "else:\n",
        "    print(angle)"
      ],
      "metadata": {
        "id": "tNBTCZML7jy_"
      },
      "execution_count": null,
      "outputs": []
    },
    {
      "cell_type": "markdown",
      "source": [
        "###`Problem 15`:Given two rectangles, find if the given two rectangles overlap or not. A rectangle is denoted by providing the x and y coordinates of two points: the left top corner and the right bottom corner of the rectangle. Two rectangles sharing a side are considered overlapping. (L1 and R1 are the extreme points of the first rectangle and L2 and R2 are the extreme points of the second rectangle).\n",
        "\n",
        "Note: It may be assumed that the rectangles are parallel to the coordinate axis.\n",
        "\n",
        "<img src='https://www.geeksforgeeks.org/wp-content/uploads/rectanglesOverlap.png' width='300' height='200'>"
      ],
      "metadata": {
        "id": "GwacF9Co72Qc"
      }
    },
    {
      "cell_type": "code",
      "source": [
        "# Write code here\n",
        "print(\"Enter both Rectangel points coordinates <x y>\")\n",
        "\n",
        "l1_x, l1_y = list(map(int, input('Enter L1 coordinate value  (Two value space seperated):').split()))\n",
        "r1_x, r1_y = list(map(int, input('Enter r1 coordinate value,(Two value space seperated):').split()))\n",
        "\n",
        "l2_x, l2_y = list(map(int, input('Enter L2 coordinate value,(Two value space seperated):').split()))\n",
        "r2_x, r2_y = list(map(int, input('Enter r2 coordinate value,(Two value space seperated):').split()))\n",
        "\n",
        "# if rectangle has area 0, no overlap\n",
        "if l1_x == r1_x or l1_y == r1_y or r2_x == l2_x or l2_y == r2_y:\n",
        "  print(\"Don't Overlap\")\n",
        "\n",
        "# If one rectangle is on left side of other\n",
        "elif l1_x > r2_x or l2_x > r1_x:\n",
        "  print(\"Don't Overlap\")\n",
        "\n",
        "# If one rectangle is above other\n",
        "elif r1_y > l2_y or r2_y > l1_y:\n",
        "  print(\"Don't Overlap\")\n",
        "else:\n",
        "  print(\"Overlap\")"
      ],
      "metadata": {
        "id": "6rrw_lpH78Rs"
      },
      "execution_count": null,
      "outputs": []
    }
  ]
}